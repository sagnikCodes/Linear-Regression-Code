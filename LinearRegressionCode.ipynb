{
 "cells": [
  {
   "cell_type": "markdown",
   "id": "76cf3be5",
   "metadata": {},
   "source": [
    "# Code for Linear Regression"
   ]
  },
  {
   "cell_type": "markdown",
   "id": "affda783",
   "metadata": {},
   "source": [
    "Firstly loading the data and spliting it into input and output"
   ]
  },
  {
   "cell_type": "code",
   "execution_count": 2,
   "id": "eefd9406",
   "metadata": {},
   "outputs": [],
   "source": [
    "import numpy as np\n",
    "data=np.loadtxt(\"data.csv\",delimiter=\",\")\n",
    "input=data[:,0]\n",
    "output=data[:,1]"
   ]
  },
  {
   "cell_type": "markdown",
   "id": "eace4817",
   "metadata": {},
   "source": [
    "Now we will divide this data into training and testing"
   ]
  },
  {
   "cell_type": "code",
   "execution_count": 16,
   "id": "e7e9622d",
   "metadata": {},
   "outputs": [],
   "source": [
    "from sklearn.model_selection import train_test_split\n",
    "x_train,x_test,y_train,y_test=train_test_split(input,output,random_state=3)"
   ]
  },
  {
   "cell_type": "markdown",
   "id": "da76cb73",
   "metadata": {},
   "source": [
    "Firstly we will define some functions like one for finding optimal coefficient,one for calculating cost,one for predicting output given an input using optimal coefficient"
   ]
  },
  {
   "cell_type": "code",
   "execution_count": 4,
   "id": "e1d3dc06",
   "metadata": {},
   "outputs": [],
   "source": [
    "def get_optimal_coefficients(x_train,y_train):\n",
    "    '''\n",
    "    Takes training data as input and returns the optimal coefficient ie. m and c values for minimum cost in form of tuple (m,c)\n",
    "    '''\n",
    "    m=((x_train*y_train).mean()-(x_train.mean()*y_train.mean()))/((x_train**2).mean()-(x_train.mean()**2))\n",
    "    c=y_train.mean()-(m*x_train.mean())\n",
    "    return (m,c)"
   ]
  },
  {
   "cell_type": "code",
   "execution_count": 10,
   "id": "8bc6a125",
   "metadata": {},
   "outputs": [],
   "source": [
    "def predict(x_test,m,c):\n",
    "    '''\n",
    "    Takes testing input,m,c as input and returns the y predicted following linear model\n",
    "    '''\n",
    "    return (m*x_test)+c #as x_test is array so this function returns y_predicted array"
   ]
  },
  {
   "cell_type": "code",
   "execution_count": 6,
   "id": "78c2135a",
   "metadata": {},
   "outputs": [],
   "source": [
    "def coefficient_of_determination(y_predicted,y_actual):\n",
    "    '''\n",
    "    Calculates the score of the algorithm\n",
    "    '''\n",
    "    u=((y_predicted-y_actual)**2).sum()\n",
    "    v=((y_actual-y_actual.mean())**2).sum()\n",
    "    return 1-(u/v)"
   ]
  },
  {
   "cell_type": "code",
   "execution_count": 21,
   "id": "572a1d20",
   "metadata": {},
   "outputs": [],
   "source": [
    "def cost(x,y,m,c):\n",
    "    '''\n",
    "    Returns cost wrt m,c and given input and output\n",
    "    '''\n",
    "    return ((y-(m*x+c))**2).sum()"
   ]
  },
  {
   "cell_type": "markdown",
   "id": "cbeb056b",
   "metadata": {},
   "source": [
    "Now we will use above for our data"
   ]
  },
  {
   "cell_type": "code",
   "execution_count": 17,
   "id": "d4b233b2",
   "metadata": {},
   "outputs": [
    {
     "name": "stdout",
     "output_type": "stream",
     "text": [
      "Slope :  1.3564840226402484\n",
      "Intercept :  6.566992797895509\n"
     ]
    }
   ],
   "source": [
    "m,c=get_optimal_coefficients(x_train,y_train)\n",
    "print(\"Slope : \",m)\n",
    "print(\"Intercept : \",c)"
   ]
  },
  {
   "cell_type": "code",
   "execution_count": 18,
   "id": "504383b9",
   "metadata": {},
   "outputs": [
    {
     "name": "stdout",
     "output_type": "stream",
     "text": [
      "20.845011865897476\n",
      "11.158986823977074\n",
      "2.2505122455839626\n",
      "17.694182701904566\n",
      "-1.2481152942803533\n",
      "-9.032840784954544\n",
      "-5.656549187904034\n",
      "8.41556667363659\n",
      "-12.337000234805046\n",
      "-12.251271011284096\n",
      "-1.4303907869317172\n",
      "-6.549367892127876\n",
      "-15.714791275177888\n",
      "10.787129282294998\n",
      "-10.486727102257248\n",
      "19.72117939691273\n",
      "2.5841613540640793\n",
      "-11.571943659685338\n",
      "-2.9632782935224\n",
      "-5.31143987459771\n",
      "-7.229549199774858\n",
      "-4.4658970696358296\n",
      "3.5105290358408894\n",
      "-0.4717284820615504\n",
      "-14.56139040910437\n"
     ]
    }
   ],
   "source": [
    "y_predicted=predict(x_test,m,c)\n",
    "for i in range(len(y_predicted)):\n",
    "    print(y_test[i]-y_predicted[i]) #so got an idea kitna far away hai y_predicted from actual y"
   ]
  },
  {
   "cell_type": "code",
   "execution_count": 19,
   "id": "07c92eb7",
   "metadata": {},
   "outputs": [
    {
     "name": "stdout",
     "output_type": "stream",
     "text": [
      "Score :  0.41773449983247557\n"
     ]
    }
   ],
   "source": [
    "print(\"Score : \",coefficient_of_determination(y_predicted,y_test)) #to get an actual score value instead of above se better idea lag"
   ]
  },
  {
   "cell_type": "code",
   "execution_count": 25,
   "id": "c28a7e46",
   "metadata": {},
   "outputs": [
    {
     "name": "stdout",
     "output_type": "stream",
     "text": [
      "Cost :  2746.974600484099\n"
     ]
    }
   ],
   "source": [
    "print(\"Cost : \",cost(x_test,y_test,m,c))"
   ]
  },
  {
   "cell_type": "markdown",
   "id": "73025e7f",
   "metadata": {},
   "source": [
    "See variation of cost with different m values"
   ]
  },
  {
   "cell_type": "code",
   "execution_count": 28,
   "id": "8c59f70d",
   "metadata": {},
   "outputs": [
    {
     "data": {
      "image/png": "[encoded data removed]",
      "text/plain": [
       "<Figure size 432x288 with 1 Axes>"
      ]
     },
     "metadata": {
      "needs_background": "light"
     },
     "output_type": "display_data"
    }
   ],
   "source": [
    "import matplotlib.pyplot as plt\n",
    "slope_values=np.arange(-5,+5,0.01)\n",
    "cost_value=np.zeros(len(slope_values),int)\n",
    "for i in range(len(slope_values)):\n",
    "    cost_value[i]=cost(x_test,y_test,slope_values[i],c)\n",
    "plt.plot(slope_values,cost_value)\n",
    "plt.axis\n",
    "plt.xlabel(\"m--->\")\n",
    "plt.ylabel(\"cost--->\")\n",
    "plt.show()"
   ]
  },
  {
   "cell_type": "markdown",
   "id": "6f02cee8",
   "metadata": {},
   "source": [
    "So it is clear that m=1.35 ke liye min aa rha cost so whi kiya"
   ]
  },
  {
   "cell_type": "code",
   "execution_count": 30,
   "id": "57e58341",
   "metadata": {},
   "outputs": [
    {
     "data": {
      "image/png": "[encoded data removed]",
      "text/plain": [
       "<Figure size 432x288 with 1 Axes>"
      ]
     },
     "metadata": {
      "needs_background": "light"
     },
     "output_type": "display_data"
    }
   ],
   "source": [
    "#similar work wrt c->\n",
    "import matplotlib.pyplot as plt\n",
    "intercept_values=np.arange(4,10,0.01)\n",
    "cost_value=np.zeros(len(intercept_values),int)\n",
    "for i in range(len(intercept_values)):\n",
    "    cost_value[i]=cost(x_test,y_test,m,intercept_values[i])\n",
    "plt.plot(intercept_values,cost_value)\n",
    "plt.axis\n",
    "plt.xlabel(\"c--->\")\n",
    "plt.ylabel(\"cost--->\")\n",
    "plt.show()"
   ]
  },
  {
   "cell_type": "markdown",
   "id": "d5ce0217",
   "metadata": {},
   "source": [
    "Again clear that ek c value ke liye min hai"
   ]
  },
  {
   "cell_type": "code",
   "execution_count": null,
   "id": "0d54e68e",
   "metadata": {},
   "outputs": [],
   "source": []
  }
 ],
 "metadata": {
  "kernelspec": {
   "display_name": "Python 3 (ipykernel)",
   "language": "python",
   "name": "python3"
  },
  "language_info": {
   "codemirror_mode": {
    "name": "ipython",
    "version": 3
   },
   "file_extension": ".py",
   "mimetype": "text/x-python",
   "name": "python",
   "nbconvert_exporter": "python",
   "pygments_lexer": "ipython3",
   "version": "3.9.12"
  }
 },
 "nbformat": 4,
 "nbformat_minor": 5
}
